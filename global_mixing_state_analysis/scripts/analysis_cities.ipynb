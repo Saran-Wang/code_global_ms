{
 "cells": [
  {
   "cell_type": "markdown",
   "metadata": {},
   "source": [
    "# Cities Analysis"
   ]
  },
  {
   "cell_type": "markdown",
   "metadata": {},
   "source": [
    "This scripts correponds to the section `5.2 Comparison to observational data`"
   ]
  },
  {
   "cell_type": "code",
   "execution_count": 1,
   "metadata": {},
   "outputs": [],
   "source": [
    "import xarray as xr\n",
    "import cartopy\n",
    "import cartopy.crs as ccrs\n",
    "import matplotlib.pyplot as plt\n",
    "import matplotlib\n",
    "import numpy as np\n",
    "#import iris.plot as iplt\n",
    "#import iris\n",
    "from cartopy.mpl.geoaxes import GeoAxes\n",
    "from cartopy.mpl.ticker import LongitudeFormatter, LatitudeFormatter\n",
    "import cartopy.feature as cfeature\n",
    "from mpl_toolkits.axes_grid1 import AxesGrid\n",
    "import matplotlib.colors as colors\n",
    "\n",
    "\n",
    "from cartopy.mpl.geoaxes import GeoAxes\n",
    "from cartopy.mpl.ticker import LongitudeFormatter, LatitudeFormatter\n",
    "import cartopy.feature as cfeature\n",
    "from mpl_toolkits.axes_grid1 import AxesGrid\n",
    "import matplotlib.ticker as mticker\n",
    "from cartopy.mpl.gridliner import LONGITUDE_FORMATTER, LATITUDE_FORMATTER\n",
    "\n",
    "import geopandas as gpd\n",
    "from geopandas import GeoDataFrame as gdf\n",
    "import pandas as pd"
   ]
  },
  {
   "cell_type": "code",
   "execution_count": 2,
   "metadata": {},
   "outputs": [],
   "source": [
    "def find_nearest(array,value):\n",
    "    idx = (np.abs(array-value)).argmin()\n",
    "    return array[idx]"
   ]
  },
  {
   "cell_type": "markdown",
   "metadata": {},
   "source": [
    "# Global $\\chi$"
   ]
  },
  {
   "cell_type": "code",
   "execution_count": 3,
   "metadata": {},
   "outputs": [],
   "source": [
    "ds = xr.open_dataset(\"../nc_files/f09_mask.nc\")\n",
    "ds=ds.assign_coords(lon=(((ds.lon + 180) % 360) - 180))\n",
    "ds=ds.reindex(lon=sorted(ds.lon))"
   ]
  },
  {
   "cell_type": "code",
   "execution_count": 4,
   "metadata": {},
   "outputs": [
    {
     "data": {
      "text/html": [
       "<div>\n",
       "<style scoped>\n",
       "    .dataframe tbody tr th:only-of-type {\n",
       "        vertical-align: middle;\n",
       "    }\n",
       "\n",
       "    .dataframe tbody tr th {\n",
       "        vertical-align: top;\n",
       "    }\n",
       "\n",
       "    .dataframe thead th {\n",
       "        text-align: right;\n",
       "    }\n",
       "</style>\n",
       "<table border=\"1\" class=\"dataframe\">\n",
       "  <thead>\n",
       "    <tr style=\"text-align: right;\">\n",
       "      <th></th>\n",
       "      <th>chi_abd</th>\n",
       "      <th>chi_opt1</th>\n",
       "      <th>chi_hyg</th>\n",
       "      <th>bc_per</th>\n",
       "      <th>dst_per</th>\n",
       "      <th>ncl_per</th>\n",
       "      <th>pom_per</th>\n",
       "      <th>soa_per</th>\n",
       "      <th>so4_per</th>\n",
       "    </tr>\n",
       "  </thead>\n",
       "  <tbody>\n",
       "    <tr>\n",
       "      <th>count</th>\n",
       "      <td>108527.000000</td>\n",
       "      <td>65909.000000</td>\n",
       "      <td>86307.000000</td>\n",
       "      <td>110592.000000</td>\n",
       "      <td>110592.000000</td>\n",
       "      <td>110592.000000</td>\n",
       "      <td>110592.000000</td>\n",
       "      <td>110592.000000</td>\n",
       "      <td>110592.000000</td>\n",
       "    </tr>\n",
       "    <tr>\n",
       "      <th>mean</th>\n",
       "      <td>66.852661</td>\n",
       "      <td>68.226440</td>\n",
       "      <td>56.054493</td>\n",
       "      <td>0.031354</td>\n",
       "      <td>0.048389</td>\n",
       "      <td>0.394192</td>\n",
       "      <td>0.158574</td>\n",
       "      <td>0.110165</td>\n",
       "      <td>0.257325</td>\n",
       "    </tr>\n",
       "    <tr>\n",
       "      <th>std</th>\n",
       "      <td>12.486314</td>\n",
       "      <td>10.186817</td>\n",
       "      <td>11.827573</td>\n",
       "      <td>0.041258</td>\n",
       "      <td>0.120722</td>\n",
       "      <td>0.337415</td>\n",
       "      <td>0.194789</td>\n",
       "      <td>0.183352</td>\n",
       "      <td>0.224112</td>\n",
       "    </tr>\n",
       "    <tr>\n",
       "      <th>min</th>\n",
       "      <td>12.616662</td>\n",
       "      <td>38.242340</td>\n",
       "      <td>20.234201</td>\n",
       "      <td>0.000056</td>\n",
       "      <td>0.000035</td>\n",
       "      <td>0.000107</td>\n",
       "      <td>0.000234</td>\n",
       "      <td>0.000058</td>\n",
       "      <td>0.005200</td>\n",
       "    </tr>\n",
       "    <tr>\n",
       "      <th>25%</th>\n",
       "      <td>57.980553</td>\n",
       "      <td>61.400860</td>\n",
       "      <td>47.827744</td>\n",
       "      <td>0.002969</td>\n",
       "      <td>0.002654</td>\n",
       "      <td>0.031905</td>\n",
       "      <td>0.014335</td>\n",
       "      <td>0.004439</td>\n",
       "      <td>0.091356</td>\n",
       "    </tr>\n",
       "    <tr>\n",
       "      <th>50%</th>\n",
       "      <td>68.727936</td>\n",
       "      <td>70.339058</td>\n",
       "      <td>53.637234</td>\n",
       "      <td>0.015392</td>\n",
       "      <td>0.007331</td>\n",
       "      <td>0.386254</td>\n",
       "      <td>0.077060</td>\n",
       "      <td>0.028177</td>\n",
       "      <td>0.202975</td>\n",
       "    </tr>\n",
       "    <tr>\n",
       "      <th>75%</th>\n",
       "      <td>76.288803</td>\n",
       "      <td>75.866364</td>\n",
       "      <td>62.690895</td>\n",
       "      <td>0.042815</td>\n",
       "      <td>0.031897</td>\n",
       "      <td>0.699597</td>\n",
       "      <td>0.222367</td>\n",
       "      <td>0.117908</td>\n",
       "      <td>0.337882</td>\n",
       "    </tr>\n",
       "    <tr>\n",
       "      <th>max</th>\n",
       "      <td>93.622704</td>\n",
       "      <td>94.437447</td>\n",
       "      <td>86.626915</td>\n",
       "      <td>0.284152</td>\n",
       "      <td>0.971027</td>\n",
       "      <td>0.983648</td>\n",
       "      <td>0.871376</td>\n",
       "      <td>0.983884</td>\n",
       "      <td>0.987179</td>\n",
       "    </tr>\n",
       "  </tbody>\n",
       "</table>\n",
       "</div>"
      ],
      "text/plain": [
       "             chi_abd      chi_opt1       chi_hyg         bc_per  \\\n",
       "count  108527.000000  65909.000000  86307.000000  110592.000000   \n",
       "mean       66.852661     68.226440     56.054493       0.031354   \n",
       "std        12.486314     10.186817     11.827573       0.041258   \n",
       "min        12.616662     38.242340     20.234201       0.000056   \n",
       "25%        57.980553     61.400860     47.827744       0.002969   \n",
       "50%        68.727936     70.339058     53.637234       0.015392   \n",
       "75%        76.288803     75.866364     62.690895       0.042815   \n",
       "max        93.622704     94.437447     86.626915       0.284152   \n",
       "\n",
       "             dst_per        ncl_per        pom_per        soa_per  \\\n",
       "count  110592.000000  110592.000000  110592.000000  110592.000000   \n",
       "mean        0.048389       0.394192       0.158574       0.110165   \n",
       "std         0.120722       0.337415       0.194789       0.183352   \n",
       "min         0.000035       0.000107       0.000234       0.000058   \n",
       "25%         0.002654       0.031905       0.014335       0.004439   \n",
       "50%         0.007331       0.386254       0.077060       0.028177   \n",
       "75%         0.031897       0.699597       0.222367       0.117908   \n",
       "max         0.971027       0.983648       0.871376       0.983884   \n",
       "\n",
       "             so4_per  \n",
       "count  110592.000000  \n",
       "mean        0.257325  \n",
       "std         0.224112  \n",
       "min         0.005200  \n",
       "25%         0.091356  \n",
       "50%         0.202975  \n",
       "75%         0.337882  \n",
       "max         0.987179  "
      ]
     },
     "execution_count": 4,
     "metadata": {},
     "output_type": "execute_result"
    }
   ],
   "source": [
    "vari_ls = [\"chi_abd\",\"chi_opt1\",\"chi_hyg\",\"bc_per\",\"dst_per\",\"ncl_per\",\"pom_per\",\"soa_per\",\"so4_per\"]\n",
    "df = ds.sel(season=[\"JJA\",\"DJF\"])[vari_ls]\\\n",
    ".to_dataframe()\n",
    "df.describe()"
   ]
  },
  {
   "cell_type": "code",
   "execution_count": 5,
   "metadata": {},
   "outputs": [
    {
     "data": {
      "text/plain": [
       "['naturalearth_cities', 'naturalearth_lowres', 'nybb']"
      ]
     },
     "execution_count": 5,
     "metadata": {},
     "output_type": "execute_result"
    }
   ],
   "source": [
    "gpd.datasets.available"
   ]
  },
  {
   "cell_type": "code",
   "execution_count": 6,
   "metadata": {},
   "outputs": [],
   "source": [
    "world = gpd.read_file(gpd.datasets.get_path('naturalearth_lowres'))\n",
    "points= gdf(df.reset_index(), geometry=gpd.points_from_xy(df.reset_index().lon, df.reset_index().lat))\n",
    "points.crs=\"EPSG:4326\"\n",
    "jps = gpd.sjoin(world, points, how='right', op='contains')\n",
    "vari_ls_new = [\"lat\",\"lon\",\"season\"] + vari_ls + [\"geometry\"]\n",
    "land = jps[~jps[\"index_left\"].isnull()][vari_ls_new]\n",
    "ocean = jps[jps[\"index_left\"].isnull()][vari_ls_new]"
   ]
  },
  {
   "cell_type": "markdown",
   "metadata": {},
   "source": [
    "## Define Cities"
   ]
  },
  {
   "cell_type": "code",
   "execution_count": 7,
   "metadata": {},
   "outputs": [],
   "source": [
    "lat_array = np.array(list(set(land[\"lat\"])))\n",
    "lon_array = np.array(list(set(land[\"lon\"])))\n",
    "\n",
    "lat_dict = {\"Pittsburgh\": 40.4406, \"Paris\": 48.75, \n",
    "            \"Sammaltunturi\": 67.97333, \n",
    "            \"Tokyo\": 35.71}\n",
    "lon_dict = {\"Pittsburgh\": -79.9959, \"Paris\": 2.36, \n",
    "            \"Sammaltunturi\": 24.11565, \n",
    "            \"Tokyo\": 139.76}"
   ]
  },
  {
   "cell_type": "markdown",
   "metadata": {},
   "source": [
    "## Paris"
   ]
  },
  {
   "cell_type": "code",
   "execution_count": 8,
   "metadata": {},
   "outputs": [
    {
     "data": {
      "text/html": [
       "<div>\n",
       "<style scoped>\n",
       "    .dataframe tbody tr th:only-of-type {\n",
       "        vertical-align: middle;\n",
       "    }\n",
       "\n",
       "    .dataframe tbody tr th {\n",
       "        vertical-align: top;\n",
       "    }\n",
       "\n",
       "    .dataframe thead th {\n",
       "        text-align: right;\n",
       "    }\n",
       "</style>\n",
       "<table border=\"1\" class=\"dataframe\">\n",
       "  <thead>\n",
       "    <tr style=\"text-align: right;\">\n",
       "      <th></th>\n",
       "      <th>lat</th>\n",
       "      <th>lon</th>\n",
       "      <th>season</th>\n",
       "      <th>chi_abd</th>\n",
       "      <th>chi_opt1</th>\n",
       "      <th>chi_hyg</th>\n",
       "      <th>bc_per</th>\n",
       "      <th>dst_per</th>\n",
       "      <th>ncl_per</th>\n",
       "      <th>pom_per</th>\n",
       "      <th>soa_per</th>\n",
       "      <th>so4_per</th>\n",
       "      <th>geometry</th>\n",
       "    </tr>\n",
       "  </thead>\n",
       "  <tbody>\n",
       "    <tr>\n",
       "      <th>84965</th>\n",
       "      <td>48.534031</td>\n",
       "      <td>2.5</td>\n",
       "      <td>DJF</td>\n",
       "      <td>78.808830</td>\n",
       "      <td>67.704521</td>\n",
       "      <td>43.076012</td>\n",
       "      <td>0.096322</td>\n",
       "      <td>0.001442</td>\n",
       "      <td>0.125743</td>\n",
       "      <td>0.334059</td>\n",
       "      <td>0.333106</td>\n",
       "      <td>0.109328</td>\n",
       "      <td>POINT (2.50000 48.53403)</td>\n",
       "    </tr>\n",
       "    <tr>\n",
       "      <th>84964</th>\n",
       "      <td>48.534031</td>\n",
       "      <td>2.5</td>\n",
       "      <td>JJA</td>\n",
       "      <td>76.884262</td>\n",
       "      <td>66.178528</td>\n",
       "      <td>46.972713</td>\n",
       "      <td>0.056014</td>\n",
       "      <td>0.013732</td>\n",
       "      <td>0.039509</td>\n",
       "      <td>0.146800</td>\n",
       "      <td>0.496485</td>\n",
       "      <td>0.247460</td>\n",
       "      <td>POINT (2.50000 48.53403)</td>\n",
       "    </tr>\n",
       "  </tbody>\n",
       "</table>\n",
       "</div>"
      ],
      "text/plain": [
       "             lat  lon season    chi_abd   chi_opt1    chi_hyg    bc_per  \\\n",
       "84965  48.534031  2.5    DJF  78.808830  67.704521  43.076012  0.096322   \n",
       "84964  48.534031  2.5    JJA  76.884262  66.178528  46.972713  0.056014   \n",
       "\n",
       "        dst_per   ncl_per   pom_per   soa_per   so4_per  \\\n",
       "84965  0.001442  0.125743  0.334059  0.333106  0.109328   \n",
       "84964  0.013732  0.039509  0.146800  0.496485  0.247460   \n",
       "\n",
       "                       geometry  \n",
       "84965  POINT (2.50000 48.53403)  \n",
       "84964  POINT (2.50000 48.53403)  "
      ]
     },
     "metadata": {},
     "output_type": "display_data"
    }
   ],
   "source": [
    "Paris = land[(land[\"lat\"]==find_nearest(lat_array, lat_dict[\"Paris\"])) &\n",
    "                         (land[\"lon\"]==find_nearest(lon_array, lon_dict[\"Paris\"]))]\n",
    "display(Paris)"
   ]
  },
  {
   "cell_type": "markdown",
   "metadata": {},
   "source": [
    "## Pittsburgh"
   ]
  },
  {
   "cell_type": "code",
   "execution_count": 9,
   "metadata": {},
   "outputs": [
    {
     "data": {
      "text/html": [
       "<div>\n",
       "<style scoped>\n",
       "    .dataframe tbody tr th:only-of-type {\n",
       "        vertical-align: middle;\n",
       "    }\n",
       "\n",
       "    .dataframe tbody tr th {\n",
       "        vertical-align: top;\n",
       "    }\n",
       "\n",
       "    .dataframe thead th {\n",
       "        text-align: right;\n",
       "    }\n",
       "</style>\n",
       "<table border=\"1\" class=\"dataframe\">\n",
       "  <thead>\n",
       "    <tr style=\"text-align: right;\">\n",
       "      <th></th>\n",
       "      <th>lat</th>\n",
       "      <th>lon</th>\n",
       "      <th>season</th>\n",
       "      <th>chi_abd</th>\n",
       "      <th>chi_opt1</th>\n",
       "      <th>chi_hyg</th>\n",
       "      <th>bc_per</th>\n",
       "      <th>dst_per</th>\n",
       "      <th>ncl_per</th>\n",
       "      <th>pom_per</th>\n",
       "      <th>soa_per</th>\n",
       "      <th>so4_per</th>\n",
       "      <th>geometry</th>\n",
       "    </tr>\n",
       "  </thead>\n",
       "  <tbody>\n",
       "    <tr>\n",
       "      <th>79649</th>\n",
       "      <td>40.052356</td>\n",
       "      <td>-80.0</td>\n",
       "      <td>DJF</td>\n",
       "      <td>77.698456</td>\n",
       "      <td>71.386299</td>\n",
       "      <td>45.394585</td>\n",
       "      <td>0.070552</td>\n",
       "      <td>0.000417</td>\n",
       "      <td>0.005213</td>\n",
       "      <td>0.294415</td>\n",
       "      <td>0.300415</td>\n",
       "      <td>0.328988</td>\n",
       "      <td>POINT (-80.00000 40.05236)</td>\n",
       "    </tr>\n",
       "    <tr>\n",
       "      <th>79648</th>\n",
       "      <td>40.052356</td>\n",
       "      <td>-80.0</td>\n",
       "      <td>JJA</td>\n",
       "      <td>78.213615</td>\n",
       "      <td>73.802887</td>\n",
       "      <td>54.655926</td>\n",
       "      <td>0.022439</td>\n",
       "      <td>0.001921</td>\n",
       "      <td>0.004341</td>\n",
       "      <td>0.109288</td>\n",
       "      <td>0.650958</td>\n",
       "      <td>0.211053</td>\n",
       "      <td>POINT (-80.00000 40.05236)</td>\n",
       "    </tr>\n",
       "  </tbody>\n",
       "</table>\n",
       "</div>"
      ],
      "text/plain": [
       "             lat   lon season    chi_abd   chi_opt1    chi_hyg    bc_per  \\\n",
       "79649  40.052356 -80.0    DJF  77.698456  71.386299  45.394585  0.070552   \n",
       "79648  40.052356 -80.0    JJA  78.213615  73.802887  54.655926  0.022439   \n",
       "\n",
       "        dst_per   ncl_per   pom_per   soa_per   so4_per  \\\n",
       "79649  0.000417  0.005213  0.294415  0.300415  0.328988   \n",
       "79648  0.001921  0.004341  0.109288  0.650958  0.211053   \n",
       "\n",
       "                         geometry  \n",
       "79649  POINT (-80.00000 40.05236)  \n",
       "79648  POINT (-80.00000 40.05236)  "
      ]
     },
     "metadata": {},
     "output_type": "display_data"
    },
    {
     "name": "stdout",
     "output_type": "stream",
     "text": [
      "Mean:\n"
     ]
    },
    {
     "data": {
      "text/plain": [
       "lat         40.052356\n",
       "lon        -80.000000\n",
       "chi_abd     77.956039\n",
       "chi_opt1    72.594589\n",
       "chi_hyg     50.025253\n",
       "bc_per       0.046496\n",
       "dst_per      0.001169\n",
       "ncl_per      0.004777\n",
       "pom_per      0.201851\n",
       "soa_per      0.475686\n",
       "so4_per      0.270020\n",
       "dtype: float64"
      ]
     },
     "metadata": {},
     "output_type": "display_data"
    }
   ],
   "source": [
    "Pittsburgh = land[(land[\"lat\"]==find_nearest(lat_array, lat_dict[\"Pittsburgh\"])) &\n",
    "                         (land[\"lon\"]==find_nearest(lon_array, lon_dict[\"Pittsburgh\"]))]\n",
    "display(Pittsburgh)\n",
    "print(\"Mean:\")\n",
    "display(Pittsburgh.mean())"
   ]
  },
  {
   "cell_type": "markdown",
   "metadata": {},
   "source": [
    "## Finnish Arctic"
   ]
  },
  {
   "cell_type": "code",
   "execution_count": 10,
   "metadata": {},
   "outputs": [
    {
     "data": {
      "text/html": [
       "<div>\n",
       "<style scoped>\n",
       "    .dataframe tbody tr th:only-of-type {\n",
       "        vertical-align: middle;\n",
       "    }\n",
       "\n",
       "    .dataframe tbody tr th {\n",
       "        vertical-align: top;\n",
       "    }\n",
       "\n",
       "    .dataframe thead th {\n",
       "        text-align: right;\n",
       "    }\n",
       "</style>\n",
       "<table border=\"1\" class=\"dataframe\">\n",
       "  <thead>\n",
       "    <tr style=\"text-align: right;\">\n",
       "      <th></th>\n",
       "      <th>lat</th>\n",
       "      <th>lon</th>\n",
       "      <th>season</th>\n",
       "      <th>chi_abd</th>\n",
       "      <th>chi_opt1</th>\n",
       "      <th>chi_hyg</th>\n",
       "      <th>bc_per</th>\n",
       "      <th>dst_per</th>\n",
       "      <th>ncl_per</th>\n",
       "      <th>pom_per</th>\n",
       "      <th>soa_per</th>\n",
       "      <th>so4_per</th>\n",
       "      <th>geometry</th>\n",
       "    </tr>\n",
       "  </thead>\n",
       "  <tbody>\n",
       "    <tr>\n",
       "      <th>97094</th>\n",
       "      <td>68.324607</td>\n",
       "      <td>23.75</td>\n",
       "      <td>JJA</td>\n",
       "      <td>81.342209</td>\n",
       "      <td>67.991493</td>\n",
       "      <td>49.851013</td>\n",
       "      <td>0.014588</td>\n",
       "      <td>0.002060</td>\n",
       "      <td>0.040986</td>\n",
       "      <td>0.117941</td>\n",
       "      <td>0.586534</td>\n",
       "      <td>0.237890</td>\n",
       "      <td>POINT (23.75000 68.32461)</td>\n",
       "    </tr>\n",
       "    <tr>\n",
       "      <th>97095</th>\n",
       "      <td>68.324607</td>\n",
       "      <td>23.75</td>\n",
       "      <td>DJF</td>\n",
       "      <td>72.503067</td>\n",
       "      <td>72.232559</td>\n",
       "      <td>55.608032</td>\n",
       "      <td>0.092398</td>\n",
       "      <td>0.011221</td>\n",
       "      <td>0.088400</td>\n",
       "      <td>0.385776</td>\n",
       "      <td>0.058759</td>\n",
       "      <td>0.363446</td>\n",
       "      <td>POINT (23.75000 68.32461)</td>\n",
       "    </tr>\n",
       "  </tbody>\n",
       "</table>\n",
       "</div>"
      ],
      "text/plain": [
       "             lat    lon season    chi_abd   chi_opt1    chi_hyg    bc_per  \\\n",
       "97094  68.324607  23.75    JJA  81.342209  67.991493  49.851013  0.014588   \n",
       "97095  68.324607  23.75    DJF  72.503067  72.232559  55.608032  0.092398   \n",
       "\n",
       "        dst_per   ncl_per   pom_per   soa_per   so4_per  \\\n",
       "97094  0.002060  0.040986  0.117941  0.586534  0.237890   \n",
       "97095  0.011221  0.088400  0.385776  0.058759  0.363446   \n",
       "\n",
       "                        geometry  \n",
       "97094  POINT (23.75000 68.32461)  \n",
       "97095  POINT (23.75000 68.32461)  "
      ]
     },
     "metadata": {},
     "output_type": "display_data"
    },
    {
     "name": "stdout",
     "output_type": "stream",
     "text": [
      "Mean:\n"
     ]
    },
    {
     "data": {
      "text/plain": [
       "lat         68.324607\n",
       "lon         23.750000\n",
       "chi_abd     76.922638\n",
       "chi_opt1    70.112030\n",
       "chi_hyg     52.729523\n",
       "bc_per       0.053493\n",
       "dst_per      0.006641\n",
       "ncl_per      0.064693\n",
       "pom_per      0.251859\n",
       "soa_per      0.322646\n",
       "so4_per      0.300668\n",
       "dtype: float64"
      ]
     },
     "metadata": {},
     "output_type": "display_data"
    }
   ],
   "source": [
    "Sammaltunturi = land[(land[\"lat\"]==find_nearest(lat_array, lat_dict[\"Sammaltunturi\"])) &\n",
    "                         (land[\"lon\"]==find_nearest(lon_array, lon_dict[\"Sammaltunturi\"]))]\n",
    "display(Sammaltunturi)\n",
    "print(\"Mean:\")\n",
    "display(Sammaltunturi.mean())"
   ]
  },
  {
   "cell_type": "markdown",
   "metadata": {},
   "source": [
    "## Tokyo "
   ]
  },
  {
   "cell_type": "code",
   "execution_count": 11,
   "metadata": {},
   "outputs": [
    {
     "data": {
      "text/html": [
       "<div>\n",
       "<style scoped>\n",
       "    .dataframe tbody tr th:only-of-type {\n",
       "        vertical-align: middle;\n",
       "    }\n",
       "\n",
       "    .dataframe tbody tr th {\n",
       "        vertical-align: top;\n",
       "    }\n",
       "\n",
       "    .dataframe thead th {\n",
       "        text-align: right;\n",
       "    }\n",
       "</style>\n",
       "<table border=\"1\" class=\"dataframe\">\n",
       "  <thead>\n",
       "    <tr style=\"text-align: right;\">\n",
       "      <th></th>\n",
       "      <th>lat</th>\n",
       "      <th>lon</th>\n",
       "      <th>season</th>\n",
       "      <th>chi_abd</th>\n",
       "      <th>chi_opt1</th>\n",
       "      <th>chi_hyg</th>\n",
       "      <th>bc_per</th>\n",
       "      <th>dst_per</th>\n",
       "      <th>ncl_per</th>\n",
       "      <th>pom_per</th>\n",
       "      <th>soa_per</th>\n",
       "      <th>so4_per</th>\n",
       "      <th>geometry</th>\n",
       "    </tr>\n",
       "  </thead>\n",
       "  <tbody>\n",
       "    <tr>\n",
       "      <th>77120</th>\n",
       "      <td>35.340314</td>\n",
       "      <td>140.0</td>\n",
       "      <td>JJA</td>\n",
       "      <td>66.817795</td>\n",
       "      <td>60.615528</td>\n",
       "      <td>48.548016</td>\n",
       "      <td>0.065097</td>\n",
       "      <td>0.001559</td>\n",
       "      <td>0.039001</td>\n",
       "      <td>0.099606</td>\n",
       "      <td>0.354442</td>\n",
       "      <td>0.440295</td>\n",
       "      <td>POINT (140.00000 35.34031)</td>\n",
       "    </tr>\n",
       "    <tr>\n",
       "      <th>77121</th>\n",
       "      <td>35.340314</td>\n",
       "      <td>140.0</td>\n",
       "      <td>DJF</td>\n",
       "      <td>72.625435</td>\n",
       "      <td>66.294556</td>\n",
       "      <td>50.750072</td>\n",
       "      <td>0.123089</td>\n",
       "      <td>0.012829</td>\n",
       "      <td>0.032410</td>\n",
       "      <td>0.222414</td>\n",
       "      <td>0.187073</td>\n",
       "      <td>0.422185</td>\n",
       "      <td>POINT (140.00000 35.34031)</td>\n",
       "    </tr>\n",
       "  </tbody>\n",
       "</table>\n",
       "</div>"
      ],
      "text/plain": [
       "             lat    lon season    chi_abd   chi_opt1    chi_hyg    bc_per  \\\n",
       "77120  35.340314  140.0    JJA  66.817795  60.615528  48.548016  0.065097   \n",
       "77121  35.340314  140.0    DJF  72.625435  66.294556  50.750072  0.123089   \n",
       "\n",
       "        dst_per   ncl_per   pom_per   soa_per   so4_per  \\\n",
       "77120  0.001559  0.039001  0.099606  0.354442  0.440295   \n",
       "77121  0.012829  0.032410  0.222414  0.187073  0.422185   \n",
       "\n",
       "                         geometry  \n",
       "77120  POINT (140.00000 35.34031)  \n",
       "77121  POINT (140.00000 35.34031)  "
      ]
     },
     "metadata": {},
     "output_type": "display_data"
    }
   ],
   "source": [
    "Tokyo = land[(land[\"lat\"]==find_nearest(lat_array, lat_dict[\"Tokyo\"])) &\n",
    "                         (land[\"lon\"]==find_nearest(lon_array, lon_dict[\"Tokyo\"]))]\n",
    "display(Tokyo)"
   ]
  }
 ],
 "metadata": {
  "kernelspec": {
   "display_name": "Python 3",
   "language": "python",
   "name": "python3"
  },
  "language_info": {
   "codemirror_mode": {
    "name": "ipython",
    "version": 3
   },
   "file_extension": ".py",
   "mimetype": "text/x-python",
   "name": "python",
   "nbconvert_exporter": "python",
   "pygments_lexer": "ipython3",
   "version": "3.6.7"
  },
  "toc": {
   "base_numbering": 1,
   "nav_menu": {},
   "number_sections": true,
   "sideBar": true,
   "skip_h1_title": false,
   "title_cell": "Table of Contents",
   "title_sidebar": "Contents",
   "toc_cell": false,
   "toc_position": {},
   "toc_section_display": true,
   "toc_window_display": false
  }
 },
 "nbformat": 4,
 "nbformat_minor": 2
}
