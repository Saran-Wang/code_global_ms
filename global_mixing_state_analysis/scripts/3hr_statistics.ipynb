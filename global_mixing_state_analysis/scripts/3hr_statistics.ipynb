{
 "cells": [
  {
   "cell_type": "markdown",
   "metadata": {},
   "source": [
    "# 3 hr Statistics"
   ]
  },
  {
   "cell_type": "markdown",
   "metadata": {},
   "source": [
    "This script is used to show the 3-hr statistics such as max and min"
   ]
  },
  {
   "cell_type": "code",
   "execution_count": 1,
   "metadata": {},
   "outputs": [],
   "source": [
    "import xarray as xr\n",
    "import matplotlib.pyplot as plt\n",
    "import matplotlib\n",
    "import numpy as np\n",
    "import pandas as pd\n",
    "import gc"
   ]
  },
  {
   "cell_type": "code",
   "execution_count": 2,
   "metadata": {},
   "outputs": [],
   "source": [
    "ds = xr.open_dataset(\"../nc_files/f09.nc\")\n",
    "\n",
    "# create masks based on percentile for chi\n",
    "ds[\"opt1_per\"] = ds[\"s1_opt1\"]/(ds[\"s1_opt1\"]+ds[\"s2_opt1\"])\n",
    "ds[\"hyg_per\"] = ds[\"s1_hyg\"]/(ds[\"s1_hyg\"]+ds[\"s2_hyg\"])\n",
    "ds[\"Mass_all\"] = ds[\"Mass_bc\"]+ds[\"Mass_dst\"]+ds[\"Mass_ncl\"]+ds[\"Mass_pom\"]+ds[\"Mass_soa\"]+ds[\"Mass_so4\"]\n",
    "for var in [\"bc\",\"dst\",\"ncl\",\"pom\",\"soa\",\"so4\"]:\n",
    "    ds[var+\"_per\"]=ds[\"Mass_\"+var]/ds[\"Mass_all\"]\n",
    "\n",
    "ds=ds[[\"chi_abd\",\"chi_opt1\",\"chi_hyg\",\n",
    "       \"opt1_per\",\"hyg_per\",\n",
    "       \"bc_per\",\"dst_per\",\"ncl_per\",\"pom_per\",\"soa_per\",\"so4_per\",\n",
    "       \"Mass_bc\",\"Mass_dst\",\"Mass_ncl\",\"Mass_pom\",\"Mass_soa\",\"Mass_so4\"]]\n",
    "\n",
    "ds[\"polluted\"] = ds[\"Mass_bc\"]+ds[\"Mass_pom\"]+ds[\"Mass_soa\"]+ds[\"Mass_so4\"]\n",
    "\n",
    "ds[\"mask\"] = xr.DataArray(np.ones(ds[\"bc_per\"].shape), \n",
    "                          coords = [ds.lat, ds.lon, ds.season],\n",
    "                          dims = [\"lat\",\"lon\",\"season\"])\n",
    "\n",
    "ds[\"mask_chi_abd\"] = ds[\"mask\"].where((ds[\"bc_per\"]<0.975)&(ds[\"dst_per\"]<0.975)\\\n",
    "                                    &(ds[\"ncl_per\"]<0.975)&(ds[\"pom_per\"]<0.975)\\\n",
    "                                    &(ds[\"soa_per\"]<0.975)&(ds[\"so4_per\"]<0.975))\\\n",
    "                                    .notnull().squeeze()\n",
    "\n",
    "ds[\"mask_chi_opt1\"] = ds[\"mask\"].where((ds[\"bc_per\"]>0.01)&(ds[\"bc_per\"]<0.99))\\\n",
    "                                .notnull().squeeze()\n",
    "\n",
    "ds[\"mask_chi_hyg\"] = ds[\"mask\"].where(((ds[\"bc_per\"]+ds[\"dst_per\"]+ds[\"pom_per\"])>0.025)\\\n",
    "                                &((ds[\"bc_per\"]+ds[\"dst_per\"]+ds[\"pom_per\"])<0.975))\\\n",
    "                               .notnull().squeeze()\n",
    "\n",
    "ds[\"mask_high_polluted\"] = ds[\"mask\"].where((ds[\"polluted\"]>(ds[\"polluted\"].quantile(0.90))))\\\n",
    "                                .notnull().squeeze()"
   ]
  },
  {
   "cell_type": "markdown",
   "metadata": {},
   "source": [
    "## report the std of chi_hyg using the 3 hrs data"
   ]
  },
  {
   "cell_type": "code",
   "execution_count": 3,
   "metadata": {},
   "outputs": [],
   "source": [
    "month_dict = {}\n",
    "month_dict[\"DJF\"] = [12,1,2]\n",
    "month_dict[\"JJA\"] = [6,7,8]\n",
    "path = \"/data/keeling/a/zzheng25/a/PartMC-MAM4/PartMC-ML-updated-predictions/\""
   ]
  },
  {
   "cell_type": "code",
   "execution_count": 4,
   "metadata": {},
   "outputs": [],
   "source": [
    "def season_stat(path, chi, month_dict, season, ds_mask):\n",
    "    for month in month_dict[season]:\n",
    "        print(path+str(month).zfill(2)+\".nc\")\n",
    "        ds_month = xr.open_dataset(path+str(month).zfill(2)+\".nc\")[chi]\\\n",
    "                   .where(ds[\"mask_chi_abd\"].sel(season=\"DJF\"))\n",
    "        print(\"min:\", np.float(ds_month.quantile(0.0005)))\n",
    "        print(\"max:\", np.float(ds_month.quantile(0.9995)))\n",
    "        print(\"std:\", np.float(ds_month.std()))\n",
    "        print(\"mean\", np.float(ds_month.mean()))\n",
    "        print(\"median:\", np.float(ds_month.median()))\n",
    "        print(\"\\n\")"
   ]
  },
  {
   "cell_type": "markdown",
   "metadata": {},
   "source": [
    "## DJF"
   ]
  },
  {
   "cell_type": "code",
   "execution_count": 5,
   "metadata": {},
   "outputs": [
    {
     "name": "stdout",
     "output_type": "stream",
     "text": [
      "chi_abd\n",
      "/data/keeling/a/zzheng25/a/PartMC-MAM4/PartMC-ML-updated-predictions/12.nc\n",
      "min: 0.033156691893935206\n",
      "max: 0.9577084824740939\n",
      "std: 0.14381402730941772\n",
      "mean 0.6372407078742981\n",
      "median: 0.6474694013595581\n",
      "\n",
      "\n",
      "/data/keeling/a/zzheng25/a/PartMC-MAM4/PartMC-ML-updated-predictions/01.nc\n",
      "min: 0.04624362464249134\n",
      "max: 0.9552862644195557\n",
      "std: 0.1436331868171692\n",
      "mean 0.6359810829162598\n",
      "median: 0.6455718278884888\n",
      "\n",
      "\n",
      "/data/keeling/a/zzheng25/a/PartMC-MAM4/PartMC-ML-updated-predictions/02.nc\n",
      "min: 0.049327526435256\n",
      "max: 0.9600391000807292\n",
      "std: 0.1440524011850357\n",
      "mean 0.6571996212005615\n",
      "median: 0.6743100881576538\n",
      "\n",
      "\n",
      "####################\n",
      "chi_opt1\n",
      "/data/keeling/a/zzheng25/a/PartMC-MAM4/PartMC-ML-updated-predictions/12.nc\n",
      "min: 0.12407775884866715\n",
      "max: 0.9330786451101383\n",
      "std: 0.16679473221302032\n",
      "mean 0.5812399387359619\n",
      "median: 0.5973672866821289\n",
      "\n",
      "\n",
      "/data/keeling/a/zzheng25/a/PartMC-MAM4/PartMC-ML-updated-predictions/01.nc\n",
      "min: 0.11330815133452415\n",
      "max: 0.9439077437520058\n",
      "std: 0.16872049868106842\n",
      "mean 0.5795611143112183\n",
      "median: 0.5937541723251343\n",
      "\n",
      "\n",
      "/data/keeling/a/zzheng25/a/PartMC-MAM4/PartMC-ML-updated-predictions/02.nc\n",
      "min: 0.18711365775763988\n",
      "max: 0.934050746738911\n",
      "std: 0.1527947634458542\n",
      "mean 0.6125299334526062\n",
      "median: 0.6309299468994141\n",
      "\n",
      "\n",
      "####################\n",
      "chi_hyg\n",
      "/data/keeling/a/zzheng25/a/PartMC-MAM4/PartMC-ML-updated-predictions/12.nc\n",
      "min: 0.09993937347829342\n",
      "max: 0.9082105355858816\n",
      "std: 0.15439635515213013\n",
      "mean 0.5402266383171082\n",
      "median: 0.538263201713562\n",
      "\n",
      "\n",
      "/data/keeling/a/zzheng25/a/PartMC-MAM4/PartMC-ML-updated-predictions/01.nc\n",
      "min: 0.0871826576590538\n",
      "max: 0.908579737305645\n",
      "std: 0.150813490152359\n",
      "mean 0.5385062098503113\n",
      "median: 0.5403143763542175\n",
      "\n",
      "\n",
      "/data/keeling/a/zzheng25/a/PartMC-MAM4/PartMC-ML-updated-predictions/02.nc\n",
      "min: 0.11766005206108093\n",
      "max: 0.9144467115402222\n",
      "std: 0.14474399387836456\n",
      "mean 0.5703989863395691\n",
      "median: 0.5702797174453735\n",
      "\n",
      "\n",
      "####################\n"
     ]
    }
   ],
   "source": [
    "for chi in [\"chi_abd\",\"chi_opt1\",\"chi_hyg\"]:\n",
    "    print(chi)\n",
    "    season_stat(path, chi, month_dict, \"DJF\", ds)\n",
    "    print(\"####################\")"
   ]
  },
  {
   "cell_type": "markdown",
   "metadata": {},
   "source": [
    "## JJA"
   ]
  },
  {
   "cell_type": "code",
   "execution_count": 6,
   "metadata": {},
   "outputs": [
    {
     "name": "stdout",
     "output_type": "stream",
     "text": [
      "chi_abd\n",
      "/data/keeling/a/zzheng25/a/PartMC-MAM4/PartMC-ML-updated-predictions/06.nc\n",
      "min: 0.04158608508110046\n",
      "max: 1.0\n",
      "std: 0.15748195350170135\n",
      "mean 0.6900191903114319\n",
      "median: 0.7076271176338196\n",
      "\n",
      "\n",
      "/data/keeling/a/zzheng25/a/PartMC-MAM4/PartMC-ML-updated-predictions/07.nc\n",
      "min: 0.10122249145805837\n",
      "max: 1.0\n",
      "std: 0.14636391401290894\n",
      "mean 0.6955495476722717\n",
      "median: 0.7136132717132568\n",
      "\n",
      "\n",
      "/data/keeling/a/zzheng25/a/PartMC-MAM4/PartMC-ML-updated-predictions/08.nc\n",
      "min: 0.10593466141819954\n",
      "max: 1.0\n",
      "std: 0.14703211188316345\n",
      "mean 0.6998758912086487\n",
      "median: 0.7288135290145874\n",
      "\n",
      "\n",
      "####################\n",
      "chi_opt1\n",
      "/data/keeling/a/zzheng25/a/PartMC-MAM4/PartMC-ML-updated-predictions/06.nc\n",
      "min: 0.21881930787861348\n",
      "max: 0.9860904015004655\n",
      "std: 0.1503339260816574\n",
      "mean 0.6646656394004822\n",
      "median: 0.6868863701820374\n",
      "\n",
      "\n",
      "/data/keeling/a/zzheng25/a/PartMC-MAM4/PartMC-ML-updated-predictions/07.nc\n",
      "min: 0.23222560408711435\n",
      "max: 0.9820152339935326\n",
      "std: 0.1374751329421997\n",
      "mean 0.663556694984436\n",
      "median: 0.6864159107208252\n",
      "\n",
      "\n",
      "/data/keeling/a/zzheng25/a/PartMC-MAM4/PartMC-ML-updated-predictions/08.nc\n",
      "min: 0.2497345243394375\n",
      "max: 0.9780181170404078\n",
      "std: 0.13061973452568054\n",
      "mean 0.6645705699920654\n",
      "median: 0.6854124665260315\n",
      "\n",
      "\n",
      "####################\n",
      "chi_hyg\n",
      "/data/keeling/a/zzheng25/a/PartMC-MAM4/PartMC-ML-updated-predictions/06.nc\n",
      "min: 0.14217584690451623\n",
      "max: 0.988532304763794\n",
      "std: 0.15942077338695526\n",
      "mean 0.5846912860870361\n",
      "median: 0.5695121884346008\n",
      "\n",
      "\n",
      "/data/keeling/a/zzheng25/a/PartMC-MAM4/PartMC-ML-updated-predictions/07.nc\n",
      "min: 0.15822189408540727\n",
      "max: 0.9648388028144836\n",
      "std: 0.14269883930683136\n",
      "mean 0.5833032131195068\n",
      "median: 0.5750243663787842\n",
      "\n",
      "\n",
      "/data/keeling/a/zzheng25/a/PartMC-MAM4/PartMC-ML-updated-predictions/08.nc\n",
      "min: 0.16512610150873663\n",
      "max: 0.9652948975563049\n",
      "std: 0.13829615712165833\n",
      "mean 0.5864328742027283\n",
      "median: 0.5747553110122681\n",
      "\n",
      "\n",
      "####################\n"
     ]
    }
   ],
   "source": [
    "for chi in [\"chi_abd\",\"chi_opt1\",\"chi_hyg\"]:\n",
    "    print(chi)\n",
    "    season_stat(path, chi, month_dict, \"JJA\", ds)\n",
    "    print(\"####################\")"
   ]
  }
 ],
 "metadata": {
  "kernelspec": {
   "display_name": "Python 3",
   "language": "python",
   "name": "python3"
  },
  "language_info": {
   "codemirror_mode": {
    "name": "ipython",
    "version": 3
   },
   "file_extension": ".py",
   "mimetype": "text/x-python",
   "name": "python",
   "nbconvert_exporter": "python",
   "pygments_lexer": "ipython3",
   "version": "3.6.7"
  },
  "toc": {
   "base_numbering": 1,
   "nav_menu": {},
   "number_sections": true,
   "sideBar": true,
   "skip_h1_title": false,
   "title_cell": "Table of Contents",
   "title_sidebar": "Contents",
   "toc_cell": false,
   "toc_position": {},
   "toc_section_display": true,
   "toc_window_display": false
  }
 },
 "nbformat": 4,
 "nbformat_minor": 2
}
