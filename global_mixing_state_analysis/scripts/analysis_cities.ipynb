{
 "cells": [
  {
   "cell_type": "markdown",
   "metadata": {},
   "source": [
    "# Cities Analysis"
   ]
  },
  {
   "cell_type": "markdown",
   "metadata": {},
   "source": [
    "This scripts correponds to the section `5.2 Comparison to observational data`"
   ]
  },
  {
   "cell_type": "code",
   "execution_count": 1,
   "metadata": {},
   "outputs": [],
   "source": [
    "import xarray as xr\n",
    "import cartopy\n",
    "import cartopy.crs as ccrs\n",
    "import matplotlib.pyplot as plt\n",
    "import matplotlib\n",
    "import numpy as np\n",
    "#import iris.plot as iplt\n",
    "#import iris\n",
    "from cartopy.mpl.geoaxes import GeoAxes\n",
    "from cartopy.mpl.ticker import LongitudeFormatter, LatitudeFormatter\n",
    "import cartopy.feature as cfeature\n",
    "from mpl_toolkits.axes_grid1 import AxesGrid\n",
    "import matplotlib.colors as colors\n",
    "\n",
    "\n",
    "from cartopy.mpl.geoaxes import GeoAxes\n",
    "from cartopy.mpl.ticker import LongitudeFormatter, LatitudeFormatter\n",
    "import cartopy.feature as cfeature\n",
    "from mpl_toolkits.axes_grid1 import AxesGrid\n",
    "import matplotlib.ticker as mticker\n",
    "from cartopy.mpl.gridliner import LONGITUDE_FORMATTER, LATITUDE_FORMATTER\n",
    "\n",
    "import geopandas as gpd\n",
    "from geopandas import GeoDataFrame as gdf\n",
    "import pandas as pd"
   ]
  },
  {
   "cell_type": "code",
   "execution_count": 2,
   "metadata": {},
   "outputs": [],
   "source": [
    "def find_nearest(array,value):\n",
    "    idx = (np.abs(array-value)).argmin()\n",
    "    return array[idx]"
   ]
  },
  {
   "cell_type": "markdown",
   "metadata": {},
   "source": [
    "# Global $\\chi$"
   ]
  },
  {
   "cell_type": "code",
   "execution_count": 3,
   "metadata": {},
   "outputs": [],
   "source": [
    "ds = xr.open_dataset(\"../nc_files/f09_mask.nc\")\n",
    "ds=ds.assign_coords(lon=(((ds.lon + 180) % 360) - 180))\n",
    "ds=ds.reindex(lon=sorted(ds.lon))"
   ]
  },
  {
   "cell_type": "code",
   "execution_count": 4,
   "metadata": {},
   "outputs": [
    {
     "data": {
      "text/html": [
       "<div>\n",
       "<style scoped>\n",
       "    .dataframe tbody tr th:only-of-type {\n",
       "        vertical-align: middle;\n",
       "    }\n",
       "\n",
       "    .dataframe tbody tr th {\n",
       "        vertical-align: top;\n",
       "    }\n",
       "\n",
       "    .dataframe thead th {\n",
       "        text-align: right;\n",
       "    }\n",
       "</style>\n",
       "<table border=\"1\" class=\"dataframe\">\n",
       "  <thead>\n",
       "    <tr style=\"text-align: right;\">\n",
       "      <th></th>\n",
       "      <th>chi_abd</th>\n",
       "      <th>chi_opt1</th>\n",
       "      <th>chi_hyg</th>\n",
       "      <th>bc_per</th>\n",
       "      <th>dst_per</th>\n",
       "      <th>ncl_per</th>\n",
       "      <th>pom_per</th>\n",
       "      <th>soa_per</th>\n",
       "      <th>so4_per</th>\n",
       "    </tr>\n",
       "  </thead>\n",
       "  <tbody>\n",
       "    <tr>\n",
       "      <th>count</th>\n",
       "      <td>108527.000000</td>\n",
       "      <td>65909.000000</td>\n",
       "      <td>86307.000000</td>\n",
       "      <td>110592.000000</td>\n",
       "      <td>110592.000000</td>\n",
       "      <td>110592.000000</td>\n",
       "      <td>110592.000000</td>\n",
       "      <td>110592.000000</td>\n",
       "      <td>110592.000000</td>\n",
       "    </tr>\n",
       "    <tr>\n",
       "      <th>mean</th>\n",
       "      <td>75.950089</td>\n",
       "      <td>75.499901</td>\n",
       "      <td>62.916161</td>\n",
       "      <td>0.031354</td>\n",
       "      <td>0.048389</td>\n",
       "      <td>0.394192</td>\n",
       "      <td>0.158574</td>\n",
       "      <td>0.110165</td>\n",
       "      <td>0.257325</td>\n",
       "    </tr>\n",
       "    <tr>\n",
       "      <th>std</th>\n",
       "      <td>11.172760</td>\n",
       "      <td>8.310899</td>\n",
       "      <td>10.960590</td>\n",
       "      <td>0.041258</td>\n",
       "      <td>0.120722</td>\n",
       "      <td>0.337415</td>\n",
       "      <td>0.194789</td>\n",
       "      <td>0.183352</td>\n",
       "      <td>0.224112</td>\n",
       "    </tr>\n",
       "    <tr>\n",
       "      <th>min</th>\n",
       "      <td>22.932678</td>\n",
       "      <td>48.747944</td>\n",
       "      <td>19.326889</td>\n",
       "      <td>0.000056</td>\n",
       "      <td>0.000035</td>\n",
       "      <td>0.000107</td>\n",
       "      <td>0.000234</td>\n",
       "      <td>0.000058</td>\n",
       "      <td>0.005200</td>\n",
       "    </tr>\n",
       "    <tr>\n",
       "      <th>25%</th>\n",
       "      <td>70.345947</td>\n",
       "      <td>69.879539</td>\n",
       "      <td>55.686806</td>\n",
       "      <td>0.002969</td>\n",
       "      <td>0.002654</td>\n",
       "      <td>0.031905</td>\n",
       "      <td>0.014335</td>\n",
       "      <td>0.004439</td>\n",
       "      <td>0.091356</td>\n",
       "    </tr>\n",
       "    <tr>\n",
       "      <th>50%</th>\n",
       "      <td>77.437614</td>\n",
       "      <td>76.818733</td>\n",
       "      <td>62.027161</td>\n",
       "      <td>0.015392</td>\n",
       "      <td>0.007331</td>\n",
       "      <td>0.386254</td>\n",
       "      <td>0.077060</td>\n",
       "      <td>0.028177</td>\n",
       "      <td>0.202975</td>\n",
       "    </tr>\n",
       "    <tr>\n",
       "      <th>75%</th>\n",
       "      <td>84.802155</td>\n",
       "      <td>81.637024</td>\n",
       "      <td>70.452606</td>\n",
       "      <td>0.042815</td>\n",
       "      <td>0.031897</td>\n",
       "      <td>0.699597</td>\n",
       "      <td>0.222367</td>\n",
       "      <td>0.117908</td>\n",
       "      <td>0.337882</td>\n",
       "    </tr>\n",
       "    <tr>\n",
       "      <th>max</th>\n",
       "      <td>95.841545</td>\n",
       "      <td>94.973610</td>\n",
       "      <td>90.213753</td>\n",
       "      <td>0.284152</td>\n",
       "      <td>0.971027</td>\n",
       "      <td>0.983648</td>\n",
       "      <td>0.871376</td>\n",
       "      <td>0.983884</td>\n",
       "      <td>0.987179</td>\n",
       "    </tr>\n",
       "  </tbody>\n",
       "</table>\n",
       "</div>"
      ],
      "text/plain": [
       "             chi_abd      chi_opt1       chi_hyg         bc_per  \\\n",
       "count  108527.000000  65909.000000  86307.000000  110592.000000   \n",
       "mean       75.950089     75.499901     62.916161       0.031354   \n",
       "std        11.172760      8.310899     10.960590       0.041258   \n",
       "min        22.932678     48.747944     19.326889       0.000056   \n",
       "25%        70.345947     69.879539     55.686806       0.002969   \n",
       "50%        77.437614     76.818733     62.027161       0.015392   \n",
       "75%        84.802155     81.637024     70.452606       0.042815   \n",
       "max        95.841545     94.973610     90.213753       0.284152   \n",
       "\n",
       "             dst_per        ncl_per        pom_per        soa_per  \\\n",
       "count  110592.000000  110592.000000  110592.000000  110592.000000   \n",
       "mean        0.048389       0.394192       0.158574       0.110165   \n",
       "std         0.120722       0.337415       0.194789       0.183352   \n",
       "min         0.000035       0.000107       0.000234       0.000058   \n",
       "25%         0.002654       0.031905       0.014335       0.004439   \n",
       "50%         0.007331       0.386254       0.077060       0.028177   \n",
       "75%         0.031897       0.699597       0.222367       0.117908   \n",
       "max         0.971027       0.983648       0.871376       0.983884   \n",
       "\n",
       "             so4_per  \n",
       "count  110592.000000  \n",
       "mean        0.257325  \n",
       "std         0.224112  \n",
       "min         0.005200  \n",
       "25%         0.091356  \n",
       "50%         0.202975  \n",
       "75%         0.337882  \n",
       "max         0.987179  "
      ]
     },
     "execution_count": 4,
     "metadata": {},
     "output_type": "execute_result"
    }
   ],
   "source": [
    "vari_ls = [\"chi_abd\",\"chi_opt1\",\"chi_hyg\",\"bc_per\",\"dst_per\",\"ncl_per\",\"pom_per\",\"soa_per\",\"so4_per\"]\n",
    "df = ds.sel(season=[\"JJA\",\"DJF\"])[vari_ls]\\\n",
    ".to_dataframe()\n",
    "df.describe()"
   ]
  },
  {
   "cell_type": "code",
   "execution_count": 5,
   "metadata": {},
   "outputs": [
    {
     "data": {
      "text/plain": [
       "['naturalearth_cities', 'naturalearth_lowres', 'nybb']"
      ]
     },
     "execution_count": 5,
     "metadata": {},
     "output_type": "execute_result"
    }
   ],
   "source": [
    "gpd.datasets.available"
   ]
  },
  {
   "cell_type": "code",
   "execution_count": 6,
   "metadata": {},
   "outputs": [],
   "source": [
    "world = gpd.read_file(gpd.datasets.get_path('naturalearth_lowres'))\n",
    "points= gdf(df.reset_index(), geometry=gpd.points_from_xy(df.reset_index().lon, df.reset_index().lat))\n",
    "points.crs=\"EPSG:4326\"\n",
    "jps = gpd.sjoin(world, points, how='right', op='contains')\n",
    "vari_ls_new = [\"lat\",\"lon\",\"season\"] + vari_ls + [\"geometry\"]\n",
    "land = jps[~jps[\"index_left\"].isnull()][vari_ls_new]\n",
    "ocean = jps[jps[\"index_left\"].isnull()][vari_ls_new]"
   ]
  },
  {
   "cell_type": "markdown",
   "metadata": {},
   "source": [
    "## Define Cities"
   ]
  },
  {
   "cell_type": "code",
   "execution_count": 7,
   "metadata": {},
   "outputs": [],
   "source": [
    "lat_array = np.array(list(set(land[\"lat\"])))\n",
    "lon_array = np.array(list(set(land[\"lon\"])))\n",
    "\n",
    "lat_dict = {\"Pittsburgh\": 40.4406, \"Paris\": 48.8566, \"Sammaltunturi\": 67.97333}\n",
    "lon_dict = {\"Pittsburgh\": -79.9959, \"Paris\": 2.3522, \"Sammaltunturi\": 24.11565}"
   ]
  },
  {
   "cell_type": "markdown",
   "metadata": {},
   "source": [
    "## Paris"
   ]
  },
  {
   "cell_type": "code",
   "execution_count": 8,
   "metadata": {},
   "outputs": [
    {
     "data": {
      "text/html": [
       "<div>\n",
       "<style scoped>\n",
       "    .dataframe tbody tr th:only-of-type {\n",
       "        vertical-align: middle;\n",
       "    }\n",
       "\n",
       "    .dataframe tbody tr th {\n",
       "        vertical-align: top;\n",
       "    }\n",
       "\n",
       "    .dataframe thead th {\n",
       "        text-align: right;\n",
       "    }\n",
       "</style>\n",
       "<table border=\"1\" class=\"dataframe\">\n",
       "  <thead>\n",
       "    <tr style=\"text-align: right;\">\n",
       "      <th></th>\n",
       "      <th>lat</th>\n",
       "      <th>lon</th>\n",
       "      <th>season</th>\n",
       "      <th>chi_abd</th>\n",
       "      <th>chi_opt1</th>\n",
       "      <th>chi_hyg</th>\n",
       "      <th>bc_per</th>\n",
       "      <th>dst_per</th>\n",
       "      <th>ncl_per</th>\n",
       "      <th>pom_per</th>\n",
       "      <th>soa_per</th>\n",
       "      <th>so4_per</th>\n",
       "      <th>geometry</th>\n",
       "    </tr>\n",
       "  </thead>\n",
       "  <tbody>\n",
       "    <tr>\n",
       "      <th>84965</th>\n",
       "      <td>48.534031</td>\n",
       "      <td>2.5</td>\n",
       "      <td>DJF</td>\n",
       "      <td>78.785385</td>\n",
       "      <td>68.654198</td>\n",
       "      <td>45.399998</td>\n",
       "      <td>0.096322</td>\n",
       "      <td>0.001442</td>\n",
       "      <td>0.125743</td>\n",
       "      <td>0.334059</td>\n",
       "      <td>0.333106</td>\n",
       "      <td>0.109328</td>\n",
       "      <td>POINT (2.50000 48.53403)</td>\n",
       "    </tr>\n",
       "    <tr>\n",
       "      <th>84964</th>\n",
       "      <td>48.534031</td>\n",
       "      <td>2.5</td>\n",
       "      <td>JJA</td>\n",
       "      <td>81.536888</td>\n",
       "      <td>69.814735</td>\n",
       "      <td>51.712387</td>\n",
       "      <td>0.056014</td>\n",
       "      <td>0.013732</td>\n",
       "      <td>0.039509</td>\n",
       "      <td>0.146800</td>\n",
       "      <td>0.496485</td>\n",
       "      <td>0.247460</td>\n",
       "      <td>POINT (2.50000 48.53403)</td>\n",
       "    </tr>\n",
       "  </tbody>\n",
       "</table>\n",
       "</div>"
      ],
      "text/plain": [
       "             lat  lon season    chi_abd   chi_opt1    chi_hyg    bc_per  \\\n",
       "84965  48.534031  2.5    DJF  78.785385  68.654198  45.399998  0.096322   \n",
       "84964  48.534031  2.5    JJA  81.536888  69.814735  51.712387  0.056014   \n",
       "\n",
       "        dst_per   ncl_per   pom_per   soa_per   so4_per  \\\n",
       "84965  0.001442  0.125743  0.334059  0.333106  0.109328   \n",
       "84964  0.013732  0.039509  0.146800  0.496485  0.247460   \n",
       "\n",
       "                       geometry  \n",
       "84965  POINT (2.50000 48.53403)  \n",
       "84964  POINT (2.50000 48.53403)  "
      ]
     },
     "metadata": {},
     "output_type": "display_data"
    }
   ],
   "source": [
    "Paris = land[(land[\"lat\"]==find_nearest(lat_array, lat_dict[\"Paris\"])) &\n",
    "                         (land[\"lon\"]==find_nearest(lon_array, lon_dict[\"Paris\"]))]\n",
    "display(Paris)"
   ]
  },
  {
   "cell_type": "markdown",
   "metadata": {},
   "source": [
    "## Pittsburgh"
   ]
  },
  {
   "cell_type": "code",
   "execution_count": 9,
   "metadata": {},
   "outputs": [
    {
     "data": {
      "text/html": [
       "<div>\n",
       "<style scoped>\n",
       "    .dataframe tbody tr th:only-of-type {\n",
       "        vertical-align: middle;\n",
       "    }\n",
       "\n",
       "    .dataframe tbody tr th {\n",
       "        vertical-align: top;\n",
       "    }\n",
       "\n",
       "    .dataframe thead th {\n",
       "        text-align: right;\n",
       "    }\n",
       "</style>\n",
       "<table border=\"1\" class=\"dataframe\">\n",
       "  <thead>\n",
       "    <tr style=\"text-align: right;\">\n",
       "      <th></th>\n",
       "      <th>lat</th>\n",
       "      <th>lon</th>\n",
       "      <th>season</th>\n",
       "      <th>chi_abd</th>\n",
       "      <th>chi_opt1</th>\n",
       "      <th>chi_hyg</th>\n",
       "      <th>bc_per</th>\n",
       "      <th>dst_per</th>\n",
       "      <th>ncl_per</th>\n",
       "      <th>pom_per</th>\n",
       "      <th>soa_per</th>\n",
       "      <th>so4_per</th>\n",
       "      <th>geometry</th>\n",
       "    </tr>\n",
       "  </thead>\n",
       "  <tbody>\n",
       "    <tr>\n",
       "      <th>79649</th>\n",
       "      <td>40.052356</td>\n",
       "      <td>-80.0</td>\n",
       "      <td>DJF</td>\n",
       "      <td>80.996323</td>\n",
       "      <td>73.610535</td>\n",
       "      <td>50.083454</td>\n",
       "      <td>0.070552</td>\n",
       "      <td>0.000417</td>\n",
       "      <td>0.005213</td>\n",
       "      <td>0.294415</td>\n",
       "      <td>0.300415</td>\n",
       "      <td>0.328988</td>\n",
       "      <td>POINT (-80.00000 40.05236)</td>\n",
       "    </tr>\n",
       "    <tr>\n",
       "      <th>79648</th>\n",
       "      <td>40.052356</td>\n",
       "      <td>-80.0</td>\n",
       "      <td>JJA</td>\n",
       "      <td>83.490074</td>\n",
       "      <td>75.875763</td>\n",
       "      <td>56.182274</td>\n",
       "      <td>0.022439</td>\n",
       "      <td>0.001921</td>\n",
       "      <td>0.004341</td>\n",
       "      <td>0.109288</td>\n",
       "      <td>0.650958</td>\n",
       "      <td>0.211053</td>\n",
       "      <td>POINT (-80.00000 40.05236)</td>\n",
       "    </tr>\n",
       "  </tbody>\n",
       "</table>\n",
       "</div>"
      ],
      "text/plain": [
       "             lat   lon season    chi_abd   chi_opt1    chi_hyg    bc_per  \\\n",
       "79649  40.052356 -80.0    DJF  80.996323  73.610535  50.083454  0.070552   \n",
       "79648  40.052356 -80.0    JJA  83.490074  75.875763  56.182274  0.022439   \n",
       "\n",
       "        dst_per   ncl_per   pom_per   soa_per   so4_per  \\\n",
       "79649  0.000417  0.005213  0.294415  0.300415  0.328988   \n",
       "79648  0.001921  0.004341  0.109288  0.650958  0.211053   \n",
       "\n",
       "                         geometry  \n",
       "79649  POINT (-80.00000 40.05236)  \n",
       "79648  POINT (-80.00000 40.05236)  "
      ]
     },
     "metadata": {},
     "output_type": "display_data"
    },
    {
     "name": "stdout",
     "output_type": "stream",
     "text": [
      "Mean:\n"
     ]
    },
    {
     "data": {
      "text/plain": [
       "lat         40.052356\n",
       "lon        -80.000000\n",
       "chi_abd     82.243195\n",
       "chi_opt1    74.743149\n",
       "chi_hyg     53.132866\n",
       "bc_per       0.046496\n",
       "dst_per      0.001169\n",
       "ncl_per      0.004777\n",
       "pom_per      0.201851\n",
       "soa_per      0.475686\n",
       "so4_per      0.270020\n",
       "dtype: float64"
      ]
     },
     "metadata": {},
     "output_type": "display_data"
    }
   ],
   "source": [
    "Pittsburgh = land[(land[\"lat\"]==find_nearest(lat_array, lat_dict[\"Pittsburgh\"])) &\n",
    "                         (land[\"lon\"]==find_nearest(lon_array, lon_dict[\"Pittsburgh\"]))]\n",
    "display(Pittsburgh)\n",
    "print(\"Mean:\")\n",
    "display(Pittsburgh.mean())"
   ]
  },
  {
   "cell_type": "markdown",
   "metadata": {},
   "source": [
    "## Finnish Arctic"
   ]
  },
  {
   "cell_type": "code",
   "execution_count": 10,
   "metadata": {},
   "outputs": [
    {
     "data": {
      "text/html": [
       "<div>\n",
       "<style scoped>\n",
       "    .dataframe tbody tr th:only-of-type {\n",
       "        vertical-align: middle;\n",
       "    }\n",
       "\n",
       "    .dataframe tbody tr th {\n",
       "        vertical-align: top;\n",
       "    }\n",
       "\n",
       "    .dataframe thead th {\n",
       "        text-align: right;\n",
       "    }\n",
       "</style>\n",
       "<table border=\"1\" class=\"dataframe\">\n",
       "  <thead>\n",
       "    <tr style=\"text-align: right;\">\n",
       "      <th></th>\n",
       "      <th>lat</th>\n",
       "      <th>lon</th>\n",
       "      <th>season</th>\n",
       "      <th>chi_abd</th>\n",
       "      <th>chi_opt1</th>\n",
       "      <th>chi_hyg</th>\n",
       "      <th>bc_per</th>\n",
       "      <th>dst_per</th>\n",
       "      <th>ncl_per</th>\n",
       "      <th>pom_per</th>\n",
       "      <th>soa_per</th>\n",
       "      <th>so4_per</th>\n",
       "      <th>geometry</th>\n",
       "    </tr>\n",
       "  </thead>\n",
       "  <tbody>\n",
       "    <tr>\n",
       "      <th>97094</th>\n",
       "      <td>68.324607</td>\n",
       "      <td>23.75</td>\n",
       "      <td>JJA</td>\n",
       "      <td>84.002007</td>\n",
       "      <td>74.210251</td>\n",
       "      <td>55.234921</td>\n",
       "      <td>0.014588</td>\n",
       "      <td>0.002060</td>\n",
       "      <td>0.040986</td>\n",
       "      <td>0.117941</td>\n",
       "      <td>0.586534</td>\n",
       "      <td>0.237890</td>\n",
       "      <td>POINT (23.75000 68.32461)</td>\n",
       "    </tr>\n",
       "    <tr>\n",
       "      <th>97095</th>\n",
       "      <td>68.324607</td>\n",
       "      <td>23.75</td>\n",
       "      <td>DJF</td>\n",
       "      <td>75.571762</td>\n",
       "      <td>80.326820</td>\n",
       "      <td>60.408379</td>\n",
       "      <td>0.092398</td>\n",
       "      <td>0.011221</td>\n",
       "      <td>0.088400</td>\n",
       "      <td>0.385776</td>\n",
       "      <td>0.058759</td>\n",
       "      <td>0.363446</td>\n",
       "      <td>POINT (23.75000 68.32461)</td>\n",
       "    </tr>\n",
       "  </tbody>\n",
       "</table>\n",
       "</div>"
      ],
      "text/plain": [
       "             lat    lon season    chi_abd   chi_opt1    chi_hyg    bc_per  \\\n",
       "97094  68.324607  23.75    JJA  84.002007  74.210251  55.234921  0.014588   \n",
       "97095  68.324607  23.75    DJF  75.571762  80.326820  60.408379  0.092398   \n",
       "\n",
       "        dst_per   ncl_per   pom_per   soa_per   so4_per  \\\n",
       "97094  0.002060  0.040986  0.117941  0.586534  0.237890   \n",
       "97095  0.011221  0.088400  0.385776  0.058759  0.363446   \n",
       "\n",
       "                        geometry  \n",
       "97094  POINT (23.75000 68.32461)  \n",
       "97095  POINT (23.75000 68.32461)  "
      ]
     },
     "metadata": {},
     "output_type": "display_data"
    },
    {
     "name": "stdout",
     "output_type": "stream",
     "text": [
      "Mean:\n"
     ]
    },
    {
     "data": {
      "text/plain": [
       "lat         68.324607\n",
       "lon         23.750000\n",
       "chi_abd     79.786880\n",
       "chi_opt1    77.268539\n",
       "chi_hyg     57.821648\n",
       "bc_per       0.053493\n",
       "dst_per      0.006641\n",
       "ncl_per      0.064693\n",
       "pom_per      0.251859\n",
       "soa_per      0.322646\n",
       "so4_per      0.300668\n",
       "dtype: float64"
      ]
     },
     "metadata": {},
     "output_type": "display_data"
    }
   ],
   "source": [
    "Sammaltunturi = land[(land[\"lat\"]==find_nearest(lat_array, lat_dict[\"Sammaltunturi\"])) &\n",
    "                         (land[\"lon\"]==find_nearest(lon_array, lon_dict[\"Sammaltunturi\"]))]\n",
    "display(Sammaltunturi)\n",
    "print(\"Mean:\")\n",
    "display(Sammaltunturi.mean())"
   ]
  }
 ],
 "metadata": {
  "kernelspec": {
   "display_name": "Python 3",
   "language": "python",
   "name": "python3"
  },
  "language_info": {
   "codemirror_mode": {
    "name": "ipython",
    "version": 3
   },
   "file_extension": ".py",
   "mimetype": "text/x-python",
   "name": "python",
   "nbconvert_exporter": "python",
   "pygments_lexer": "ipython3",
   "version": "3.6.7"
  },
  "toc": {
   "base_numbering": 1,
   "nav_menu": {},
   "number_sections": true,
   "sideBar": true,
   "skip_h1_title": false,
   "title_cell": "Table of Contents",
   "title_sidebar": "Contents",
   "toc_cell": false,
   "toc_position": {},
   "toc_section_display": true,
   "toc_window_display": false
  }
 },
 "nbformat": 4,
 "nbformat_minor": 2
}
